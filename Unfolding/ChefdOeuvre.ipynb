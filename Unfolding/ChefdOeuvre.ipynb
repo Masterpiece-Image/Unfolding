{
  "nbformat": 4,
  "nbformat_minor": 0,
  "metadata": {
    "colab": {
      "provenance": [],
      "authorship_tag": "ABX9TyMqWun/4v+c4vjKKrTioa1L",
      "include_colab_link": true
    },
    "kernelspec": {
      "name": "python3",
      "display_name": "Python 3"
    },
    "language_info": {
      "name": "python"
    },
    "accelerator": "GPU",
    "gpuClass": "standard"
  },
  "cells": [
    {
      "cell_type": "markdown",
      "metadata": {
        "id": "view-in-github",
        "colab_type": "text"
      },
      "source": [
        "<a href=\"https://colab.research.google.com/github/Masterpiece-Image/Unfolding/blob/main/src/ChefdOeuvre.ipynb\" target=\"_parent\"><img src=\"https://colab.research.google.com/assets/colab-badge.svg\" alt=\"Open In Colab\"/></a>"
      ]
    },
    {
      "cell_type": "code",
      "source": [
        "import torch\n",
        "from tqdm import tqdm\n",
        "device_cpu = torch.device('cpu')\n",
        "device = torch.device('cuda' if torch.cuda.is_available() else 'cpu')\n",
        "device.index, device_cpu.index"
      ],
      "metadata": {
        "colab": {
          "base_uri": "https://localhost:8080/"
        },
        "id": "MywoSYj21j8B",
        "outputId": "f6b35c0b-797a-4179-a3eb-6ecbcd61f9a1"
      },
      "execution_count": 1,
      "outputs": [
        {
          "output_type": "execute_result",
          "data": {
            "text/plain": [
              "(None, None)"
            ]
          },
          "metadata": {},
          "execution_count": 1
        }
      ]
    },
    {
      "cell_type": "code",
      "source": [],
      "metadata": {
        "id": "MztQqlF1rmyX"
      },
      "execution_count": 1,
      "outputs": []
    },
    {
      "cell_type": "code",
      "source": [
        "import torch\n",
        "import torch.utils.data\n",
        "\n",
        "import torchvision\n",
        "import torchvision.io\n",
        "import torchvision.transforms\n",
        "\n",
        "\n",
        "import pathlib\n",
        "import os\n",
        "\n",
        "\n",
        "# Dataset customization : https://pytorch.org/tutorials/beginner/data_loading_tutorial.html\n",
        "\n",
        "class ImageDataset(torch.utils.data.Dataset):\n",
        "\n",
        "    def __init__(self, root_dir: pathlib.Path) -> None:\n",
        "        \"\"\"\n",
        "        Args:\n",
        "            root_dir (pathlib.Path): Directory with all the images.\n",
        "        \"\"\"\n",
        "        super().__init__()\n",
        "        self.root_dir: pathlib.Path = root_dir\n",
        "        self.image_names: list[pathlib.Path] = [ filename.stem for filename in map(lambda e : pathlib.Path(e), os.listdir(root_dir / 'Artifacts')) ]\n",
        "\n",
        "    def __len__(self) -> int:\n",
        "        return len(self.image_names)\n",
        "\n",
        "    def __getitem__(self, index):\n",
        "        \n",
        "        filename_artifact: pathlib.Path = self.root_dir / 'Artifacts' / (self.image_names[index] + '.jpg')\n",
        "        image_artifact_string: torch.Tensor = torchvision.io.read_file(str(filename_artifact))\n",
        "        image_artifact_decoded: torch.Tensor = torchvision.io.decode_jpeg(input=image_artifact_string, mode=torchvision.io.ImageReadMode.GRAY) / 255.0\n",
        "\n",
        "        filename_result: pathlib.Path = self.root_dir / 'Results' / (self.image_names[index] + '.png')\n",
        "        image_result_string: torch.Tensor = torchvision.io.read_file(str(filename_result))\n",
        "        image_result_decoded: torch.Tensor = torchvision.io.decode_png(input=image_result_string, mode=torchvision.io.ImageReadMode.GRAY) / 255.0\n",
        "\n",
        "        image_artifact_decoded = torch.nn.functional.max_pool2d(image_artifact_decoded, (2,2))\n",
        "        image_result_decoded = torch.nn.functional.max_pool2d(image_result_decoded, (2,2))\n",
        "\n",
        "        return image_artifact_decoded.squeeze(), image_result_decoded.squeeze()\n",
        "\n",
        "        # return { 'Artifacts' : image_artifact_decoded, 'Results' : image_result_decoded }\n",
        "\n",
        "dataset: ImageDataset = ImageDataset(root_dir=pathlib.Path('./datas'))"
      ],
      "metadata": {
        "id": "bJJH4EsheQBw"
      },
      "execution_count": 2,
      "outputs": []
    },
    {
      "cell_type": "code",
      "source": [
        "import torch\n",
        "import torch.nn as nn\n",
        "import torch.optim as opti\n",
        "import torch.utils.data\n",
        "\n",
        "\n",
        "import matplotlib.pyplot as plt\n",
        "\n",
        "import typing\n",
        "\n",
        "        \n",
        "# data : list<tuple(Tensor, Tensor)>\n",
        "def train(model : torch.nn.Module, dataset : ImageDataset, num_epochs : int, batch_size : int, learning_rate : float, data_shuffle : bool=True) -> None:\n",
        "\n",
        "    train_loader = torch.utils.data.DataLoader(dataset, batch_size = batch_size, shuffle = data_shuffle)\n",
        "    criterion = nn.L1Loss() # MAE\n",
        "    optimizer = opti.Adam(model.parameters(), lr = learning_rate)\n",
        "\n",
        "    #pour l'affichage de l'évalution de la loss\n",
        "    n = 0\n",
        "    iters, losses = [], []\n",
        "    # Foreach epochs\n",
        "    for epoch in tqdm(range(num_epochs)):\n",
        "        # Foreach batch\n",
        "        for X, Y in iter(train_loader):\n",
        "            if X.size()[0] < batch_size:\n",
        "                continue\n",
        "            X = torch.unsqueeze(X, 1)\n",
        "            Y = torch.unsqueeze(Y, 1)\n",
        "            #print(\"X device : \", X.device)\n",
        "            X, Y = X.to(device), Y.to(device)\n",
        "            #print(\"X device : \", X.device)\n",
        "            \n",
        "            model.train()\n",
        "            out = model(X)\n",
        "            \n",
        "            #loss = criterion(out, Y)\n",
        "            loss = lossCustom(out, Y, X)\n",
        "            loss.backward()\n",
        "            optimizer.step()\n",
        "            optimizer.zero_grad()\n",
        "            \n",
        "            #mémorise la valeur des la loss pour chaque batch\n",
        "            iters.append(n)\n",
        "            #print(\"X:\", X, \"\\nOut:\", out, \"\\nLoss\",loss)\n",
        "            losses.append(float(loss)/batch_size)\n",
        "            n -= -1\n",
        "\n",
        "\n",
        "    #affichage\n",
        "    plt.title(\"Courbe d'appentissage\")\n",
        "    plt.plot(iters, losses)\n",
        "    plt.xlabel(\"Iteration\")\n",
        "    plt.ylabel(\"Loss\")\n",
        "    plt.show()\n",
        "\n",
        "\n",
        "def lossCustom(output, target, J):\n",
        "  O, H = output[0], output[1]\n",
        "  #alpha = beta = torch.tensor([1 if (i==0) else 0.1 for i in range(O.shape[0])])\n",
        "\n",
        "  resemblance_loss = torch.abs(O - target.unsqueeze(0)).expand((O.shape[0],-1,-1,-1,-1))\n",
        "  consistance_loss = torch.abs(H - (J - target).unsqueeze(0)).expand((H.shape[0],-1,-1,-1,-1))\n",
        "\n",
        "  resemblance_loss = torch.mean(resemblance_loss, dim=(1,2,3,4))\n",
        "  consistance_loss = torch.mean(consistance_loss, dim=(1,2,3,4))\n",
        "\n",
        "  #alpha.to(device)\n",
        "  #beta.to(device)\n",
        "  #resemblance_loss.to(device)\n",
        "  #consistance_loss.to(device)\n",
        "\n",
        "  #print(\"\\ndevice alpha:\", alpha.get_device(), \", \", torch.cuda.device(alpha.get_device()))\n",
        "  #print(\"device beta:\", beta.get_device(), \", \", torch.cuda.device(beta.get_device()))\n",
        "  #print(\"device resemblance_loss:\", resemblance_loss.get_device(), \", \", torch.cuda.device(resemblance_loss.get_device()))\n",
        "  #print(\"device consistance_loss:\", consistance_loss.get_device(), \", \", torch.cuda.device(consistance_loss.get_device()))\n",
        "\n",
        "  resemblance_loss = resemblance_loss * 0.1\n",
        "  consistance_loss = consistance_loss * 0.\n",
        "  resemblance_loss[0] *= 10\n",
        "  consistance_loss[0] *= 10\n",
        "\n",
        "  loss = torch.mean(resemblance_loss + consistance_loss)\n",
        "\n",
        "  return loss "
      ],
      "metadata": {
        "id": "flFedG-Hf6Ae"
      },
      "execution_count": 3,
      "outputs": []
    },
    {
      "cell_type": "code",
      "source": [
        "alpha = beta = torch.tensor([1 if (i==0) else 0.1 for i in range(10)])\n",
        "\n",
        "print(\"device:\", alpha.get_device(), \", \", torch.cuda.device(alpha.get_device()))\n",
        "alpha.to(device_cpu)\n",
        "beta.to(device_cpu)\n",
        "print(\"device:\", alpha.get_device(), \", \", torch.cuda.device(alpha.get_device()))\n",
        "\n"
      ],
      "metadata": {
        "colab": {
          "base_uri": "https://localhost:8080/"
        },
        "id": "v3tf6U7gMbmi",
        "outputId": "71917b78-498c-4dcc-ab73-3ed12114a7fe"
      },
      "execution_count": 4,
      "outputs": [
        {
          "output_type": "stream",
          "name": "stdout",
          "text": [
            "device: -1 ,  <torch.cuda.device object at 0x7fbdb41b4130>\n",
            "device: -1 ,  <torch.cuda.device object at 0x7fbdd3f61100>\n"
          ]
        }
      ]
    },
    {
      "cell_type": "code",
      "source": [
        "import torch\n",
        "import torch.nn as nn\n",
        "import torch.nn.functional\n",
        "\n",
        "import typing\n",
        "\n",
        "class ProximalOperator(torch.nn.Module):\n",
        "\n",
        "\n",
        "    def __init__(self, in_channels: int, num_features: int) -> None:    \n",
        "        super().__init__()\n",
        "\n",
        "        self.in_channels = in_channels\n",
        "\n",
        "        #scope prox\n",
        "        self.conv = nn.Conv2d(in_channels=in_channels, out_channels=num_features, kernel_size=3, padding=\"same\")\n",
        "        \n",
        "        self.conv_it = {}\n",
        "        for i in range(5):\n",
        "            self.conv_it[\"conv_it\"+str(i)+\"_1\"] = nn.Conv2d(in_channels=num_features, out_channels=num_features, kernel_size=3, padding=\"same\")\n",
        "            self.conv_it[\"conv_it\"+str(i)+\"_2\"] = nn.Conv2d(in_channels=num_features, out_channels=num_features, kernel_size=3, padding=\"same\")\n",
        "\n",
        "        self.conv3 = nn.Conv2d(in_channels=num_features, out_channels=in_channels, kernel_size=3, padding=\"same\")\n",
        "        \n",
        "\n",
        "    def forward(self, image: torch.Tensor) -> torch.Tensor:\n",
        "        conv = self.conv(image)\n",
        "        conv = nn.functional.relu(conv)\n",
        "        for i in range(5):\n",
        "            conv_1 = self.conv_it[\"conv_it\"+str(i)+\"_1\"](conv)\n",
        "            conv_1 = nn.functional.relu(conv_1)\n",
        "            conv_2 = self.conv_it[\"conv_it\"+str(i)+\"_2\"](conv_1)\n",
        "            conv_2 = nn.functional.relu(conv_2)\n",
        "            conv = conv_1 + conv_2\n",
        "        out = self.conv3(conv)\n",
        "        return out\n",
        "\n",
        "    def to(self, *args, **kwargs):\n",
        "        self = super().to(*args, **kwargs)\n",
        "        for i in self.conv_it:\n",
        "          self.conv_it[i].to(*args, **kwargs)\n",
        "        return self\n",
        "\n",
        "\n",
        "\n",
        "class Prox_M(ProximalOperator):\n",
        "    def __init__(self, in_channels: int) -> None:\n",
        "        super().__init__(in_channels=in_channels, num_features=in_channels // 2)\n",
        "\n",
        "\n",
        "class Prox_O(ProximalOperator):\n",
        "    def forward(self, image : torch.Tensor) -> torch.Tensor:\n",
        "        out = super().forward(image)\n",
        "        B = out[:, 0:1, :, :]\n",
        "        Z = out[:, 1:self.in_channels, :, :]\n",
        "        return B, Z\n"
      ],
      "metadata": {
        "id": "gVd-yPOZh8Wz"
      },
      "execution_count": 5,
      "outputs": []
    },
    {
      "cell_type": "code",
      "source": [
        "import torch\n",
        "import torch.nn as nn\n",
        "# from torch.nn import L1Loss as MAE\n",
        "\n",
        "import typing\n",
        "\n",
        "# -----------------------------------------------\n",
        "\n",
        "# -----------------------------------------------\n",
        "\n",
        "\n",
        "class Unfolding(torch.nn.Module):\n",
        "\n",
        "\n",
        "    def __init__(self, in_channels: int, num_features: int = 48, iterations: int = 10) -> None:\n",
        "        super().__init__()\n",
        "\n",
        "        self.prox_O: Prox_O = Prox_O(in_channels=in_channels+num_features, num_features=num_features)\n",
        "        self.prox_M: Prox_M = Prox_M(in_channels=num_features*3)\n",
        "        self.stepO = torch.tensor(0.1, dtype=torch.double, requires_grad=True)\n",
        "        self.stepM = torch.tensor(0.1, dtype=torch.double, requires_grad=True)\n",
        "        self.num_features = num_features\n",
        "        self.iterations = iterations\n",
        "\n",
        "        #initial scope\n",
        "        self.O_0 = nn.Conv2d(in_channels=1, out_channels=num_features, kernel_size=3, padding=\"same\")\n",
        "\n",
        "        self.conv_it = {}\n",
        "        for i in range(iterations):\n",
        "            self.conv_it[\"conv_it\"+str(i)+\"X1\"] = nn.Conv2d(in_channels=in_channels, out_channels=num_features, kernel_size=3, dilation=1, padding=\"same\", bias=False)\n",
        "            self.conv_it[\"conv_it\"+str(i)+\"X2\"] = nn.Conv2d(in_channels=in_channels, out_channels=num_features, kernel_size=3, dilation=2, padding=\"same\", bias=False)\n",
        "            self.conv_it[\"conv_it\"+str(i)+\"X4\"] = nn.Conv2d(in_channels=in_channels, out_channels=num_features, kernel_size=3, dilation=4, padding=\"same\", bias=False)\n",
        "            self.conv_it[\"conv_it\"+str(i)+\"X11\"] = nn.Conv2d(in_channels=num_features, out_channels=num_features, kernel_size=3, dilation=1, padding=\"same\", bias=False)\n",
        "            self.conv_it[\"conv_it\"+str(i)+\"X22\"] = nn.Conv2d(in_channels=num_features, out_channels=num_features, kernel_size=3, dilation=2, padding=\"same\", bias=False)\n",
        "            self.conv_it[\"conv_it\"+str(i)+\"X44\"] = nn.Conv2d(in_channels=num_features, out_channels=num_features, kernel_size=3, dilation=4, padding=\"same\", bias=False)\n",
        "            self.conv_it[\"conv_it\"+str(i)+\"X111\"] = nn.Conv2d(in_channels=num_features, out_channels=num_features, kernel_size=3, dilation=1, padding=\"same\", bias=False)\n",
        "            self.conv_it[\"conv_it\"+str(i)+\"X222\"] = nn.Conv2d(in_channels=num_features, out_channels=num_features, kernel_size=3, dilation=2, padding=\"same\", bias=False)\n",
        "            self.conv_it[\"conv_it\"+str(i)+\"X444\"] = nn.Conv2d(in_channels=num_features, out_channels=num_features, kernel_size=3, dilation=4, padding=\"same\", bias=False)\n",
        "\n",
        "        \n",
        "\n",
        "\n",
        "\n",
        "    def forward(self, J: torch.Tensor) -> torch.Tensor:\n",
        "        torch.Tensor : all_O\n",
        "        torch.Tensor : all_H\n",
        "        #initial\n",
        "        O_0 = self.O_0(J)\n",
        "        a = [O_0,J]\n",
        "        tmp = torch.concat([O_0,J],1)\n",
        "        O_previous, Z = self.prox_O(tmp)\n",
        "        H = J - O_previous\n",
        "\n",
        "        #iteration 1\n",
        "        X_1 = self.conv_it[\"conv_it\"+str(0)+\"X1\"](H)\n",
        "        X_2 = self.conv_it[\"conv_it\"+str(0)+\"X2\"](H)\n",
        "        X_4 = self.conv_it[\"conv_it\"+str(0)+\"X4\"](H)\n",
        "\n",
        "        M = self.prox_M(torch.concat([X_1,X_2,X_4],1))\n",
        "\n",
        "        X_1 = self.conv_it[\"conv_it\"+str(0)+\"X11\"](M[:,0:self.num_features,:,:])\n",
        "        X_2 = self.conv_it[\"conv_it\"+str(0)+\"X22\"](M[:,self.num_features:self.num_features*2,:,:])\n",
        "        X_4 = self.conv_it[\"conv_it\"+str(0)+\"X44\"](M[:,self.num_features*2:self.num_features*3,:,:])\n",
        "\n",
        "        h_current = torch.concat([X_1,X_2,X_4],1)\n",
        "        H_current = h_current.sum(1).unsqueeze(1)\n",
        "\n",
        "        O_current = J - H_current\n",
        "        \n",
        "        all_O = O_current.unsqueeze(0)\n",
        "        all_H = H_current.unsqueeze(0)\n",
        "\n",
        "        tmp = torch.concat([Z, self.stepO * O_current + (1.-self.stepO) * O_previous],1)\n",
        "        O_current, Z = self.prox_O(tmp)\n",
        "\n",
        "        for i in range(1, self.iterations):\n",
        "            O_previous = O_current\n",
        "            H = J - O_previous\n",
        "\n",
        "            X_1 = self.conv_it[\"conv_it\"+str(i)+\"X11\"](M[:,0:self.num_features,:,:])\n",
        "            X_2 = self.conv_it[\"conv_it\"+str(i)+\"X22\"](M[:,self.num_features:self.num_features*2,:,:])\n",
        "            X_4 = self.conv_it[\"conv_it\"+str(i)+\"X44\"](M[:,self.num_features*2:self.num_features*3,:,:])\n",
        "\n",
        "            H_star = torch.concat([X_1,X_2,X_4],1)\n",
        "            H_star = H_star.sum(1).unsqueeze(1)\n",
        "\n",
        "            X_1 = self.conv_it[\"conv_it\"+str(i)+\"X1\"](H_star-H)\n",
        "            X_2 = self.conv_it[\"conv_it\"+str(i)+\"X2\"](H_star-H)\n",
        "            X_4 = self.conv_it[\"conv_it\"+str(i)+\"X4\"](H_star-H)\n",
        "\n",
        "            M = self.prox_M(M - self.stepM * torch.concat([X_1,X_2,X_4],1))\n",
        "\n",
        "            X_1 = self.conv_it[\"conv_it\"+str(i)+\"X111\"](M[:,0:self.num_features,:,:])\n",
        "            X_2 = self.conv_it[\"conv_it\"+str(i)+\"X222\"](M[:,self.num_features:self.num_features*2,:,:])\n",
        "            X_4 = self.conv_it[\"conv_it\"+str(i)+\"X444\"](M[:,self.num_features*2:self.num_features*3,:,:])\n",
        "\n",
        "            h_current = torch.concat([X_1,X_2,X_4],1)\n",
        "            H_current = h_current.sum(1).unsqueeze(1)\n",
        " \n",
        "\n",
        "            O_current = J - H_current\n",
        "            tmp = torch.concat([Z, self.stepO * O_current + (1.-self.stepO) * O_previous],1)\n",
        "            O_current, Z = self.prox_O(tmp)\n",
        "\n",
        "            all_O = torch.cat((O_current.unsqueeze(0), all_O), dim=0)\n",
        "            all_H = torch.cat((H_current.unsqueeze(0), all_H), dim=0)\n",
        "\n",
        "        return (all_O, all_H)\n",
        "\n",
        "\n",
        "    def to(self, *args, **kwargs):\n",
        "        self = super().to(*args, **kwargs)\n",
        "        for i in self.conv_it:\n",
        "          self.conv_it[i].to(*args, **kwargs)\n",
        "        self.prox_O.to(*args, **kwargs)\n",
        "        self.prox_M.to(*args, **kwargs)\n",
        "        return self"
      ],
      "metadata": {
        "id": "zweyZbQOiAXU"
      },
      "execution_count": 9,
      "outputs": []
    },
    {
      "cell_type": "code",
      "source": [],
      "metadata": {
        "id": "NMk36J50pyVY"
      },
      "execution_count": 6,
      "outputs": []
    },
    {
      "cell_type": "code",
      "source": [
        "dataset = ImageDataset(root_dir=pathlib.Path('./datas'))\n",
        "model: Unfolding = Unfolding(in_channels=1)\n",
        "model.to(device)\n",
        "print(model.O_0.weight.type())\n",
        "print(model.prox_O.conv.weight.type())\n",
        "losses = train(model, dataset, num_epochs=50, batch_size=2, learning_rate=0.0001, data_shuffle=True)"
      ],
      "metadata": {
        "colab": {
          "base_uri": "https://localhost:8080/",
          "height": 347
        },
        "id": "t8Jwfck9iE_v",
        "outputId": "097b7937-35d5-4699-dcd8-78274a348a0c"
      },
      "execution_count": 7,
      "outputs": [
        {
          "output_type": "stream",
          "name": "stdout",
          "text": [
            "torch.cuda.FloatTensor\n",
            "torch.cuda.FloatTensor\n"
          ]
        },
        {
          "output_type": "stream",
          "name": "stderr",
          "text": [
            "100%|██████████| 50/50 [04:52<00:00,  5.85s/it]\n"
          ]
        },
        {
          "output_type": "display_data",
          "data": {
            "text/plain": [
              "<Figure size 432x288 with 1 Axes>"
            ],
            "image/png": "[encoded data removed]"
          },
          "metadata": {
            "needs_background": "light"
          }
        }
      ]
    },
    {
      "cell_type": "code",
      "source": [
        "losses"
      ],
      "metadata": {
        "id": "rL2JXaYriLVu"
      },
      "execution_count": 8,
      "outputs": []
    },
    {
      "cell_type": "code",
      "source": [],
      "metadata": {
        "id": "D2yX7jT4kywd"
      },
      "execution_count": 8,
      "outputs": []
    }
  ]
}